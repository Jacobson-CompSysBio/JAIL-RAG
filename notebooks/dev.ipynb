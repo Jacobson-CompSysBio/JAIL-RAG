{
 "cells": [
  {
   "cell_type": "code",
   "execution_count": 1,
   "metadata": {},
   "outputs": [],
   "source": [
    "import os, sys, glob\n",
    "import numpy as np\n",
    "sys.path.append('../')"
   ]
  },
  {
   "cell_type": "code",
   "execution_count": 2,
   "metadata": {},
   "outputs": [
    {
     "name": "stdout",
     "output_type": "stream",
     "text": [
      "question\tscope\tlabel\tdesc\tgraph\n",
      "Is there an edge between nodes 183 and 401?\tall\tyes\t \t../data/subgraphs/all/graphs/0.pt\n",
      "Is there an edge between nodes 989 and 263?\tall\tyes\t \t../data/subgraphs/all/graphs/0.pt\n",
      "Is there an edge between nodes 610 and 84?\tall\tyes\t \t../data/subgraphs/all/graphs/0.pt\n",
      "Is there an edge between nodes 173 and 88?\tall\tyes\t \t../data/subgraphs/all/graphs/0.pt\n"
     ]
    }
   ],
   "source": [
    "# open first five lines of the file\n",
    "with open('../data/subgraphs/all/train_dev.tsv', 'r') as f:\n",
    "    for i in range(5):\n",
    "        print(f.readline().strip())"
   ]
  }
 ],
 "metadata": {
  "kernelspec": {
   "display_name": "rag",
   "language": "python",
   "name": "python3"
  },
  "language_info": {
   "codemirror_mode": {
    "name": "ipython",
    "version": 3
   },
   "file_extension": ".py",
   "mimetype": "text/x-python",
   "name": "python",
   "nbconvert_exporter": "python",
   "pygments_lexer": "ipython3",
   "version": "3.12.7"
  }
 },
 "nbformat": 4,
 "nbformat_minor": 2
}
