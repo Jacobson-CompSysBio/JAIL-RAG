{
 "cells": [
  {
   "cell_type": "code",
   "execution_count": 8,
   "metadata": {},
   "outputs": [],
   "source": [
    "import os, sys\n",
    "import wandb\n",
    "import tqdm.notebook as tqdm\n",
    "import transformers\n",
    "import torch\n",
    "import torch.nn as nn\n",
    "from torch.nn.utils import clip_grad_norm_\n",
    "from torch.utils.data import DataLoader, Dataset\n",
    "from importlib import reload\n",
    "from torch_scatter import scatter\n",
    "from transformers import pipeline\n",
    "\n",
    "sys.path.append('../')\n",
    "\n",
    "from utils import preprocess as pp\n",
    "from utils.ckpt import _reload_best_model\n",
    "from utils.graph_llm import GraphLLM\n",
    "from utils.llm import LLM\n",
    "from utils.multiplex import Multiplex\n",
    "from utils.textualize import *\n",
    "from utils.bio_graphs import BiologicalDataset"
   ]
  },
  {
   "cell_type": "markdown",
   "metadata": {},
   "source": [
    "# Load Datasets"
   ]
  },
  {
   "cell_type": "code",
   "execution_count": 9,
   "metadata": {},
   "outputs": [],
   "source": [
    "# get dataset\n",
    "base_path = '../data/DREAM4_gold_standards/'\n",
    "\n",
    "c_node_id_data = BiologicalDataset(base_path + 'connections_node_id')\n",
    "c_node_label_data = BiologicalDataset(base_path + 'connections_node_label')\n",
    "sp_node_id_data = BiologicalDataset(base_path + 'shortest_path_node_id')\n",
    "sp_node_label_data = BiologicalDataset(base_path + 'shortest_path_node_label')"
   ]
  },
  {
   "cell_type": "markdown",
   "metadata": {},
   "source": [
    "# Load Models"
   ]
  },
  {
   "cell_type": "code",
   "execution_count": 6,
   "metadata": {},
   "outputs": [
    {
     "name": "stdout",
     "output_type": "stream",
     "text": [
      "Loading LLaMA...\n"
     ]
    },
    {
     "data": {
      "application/vnd.jupyter.widget-view+json": {
       "model_id": "f0ed67283d5547009561acd6381ffdd1",
       "version_major": 2,
       "version_minor": 0
      },
      "text/plain": [
       "Loading checkpoint shards:   0%|          | 0/4 [00:00<?, ?it/s]"
      ]
     },
     "metadata": {},
     "output_type": "display_data"
    },
    {
     "name": "stdout",
     "output_type": "stream",
     "text": [
      "Freezing LLaMA...\n",
      "Finished loading LLaMA...\n"
     ]
    }
   ],
   "source": [
    "vanilla_llm = LLM(max_text_len=512,\n",
    "                  max_max_new_tokens=32,\n",
    "                  max_memory=[80, 80],\n",
    "                  llm_model_path='meta-llama/Meta-Llama-3-8B-Instruct',\n",
    "                  llm_frozen='True',\n",
    "                  revision=\"main\") # need to add args"
   ]
  },
  {
   "cell_type": "code",
   "execution_count": 10,
   "metadata": {},
   "outputs": [
    {
     "name": "stdout",
     "output_type": "stream",
     "text": [
      "Loading LLaMA...\n"
     ]
    },
    {
     "data": {
      "application/vnd.jupyter.widget-view+json": {
       "model_id": "b3df2160ad9f4c5f912555486798ed89",
       "version_major": 2,
       "version_minor": 0
      },
      "text/plain": [
       "Loading checkpoint shards:   0%|          | 0/4 [00:00<?, ?it/s]"
      ]
     },
     "metadata": {},
     "output_type": "display_data"
    },
    {
     "name": "stdout",
     "output_type": "stream",
     "text": [
      "Freezing LLaMA!\n",
      "Finished loading LLaMA!\n"
     ]
    }
   ],
   "source": [
    "# base model\n",
    "base_graph_llm = GraphLLM(max_text_len=512,\n",
    "                     max_max_new_tokens=32,\n",
    "                     max_memory=[80, 80],\n",
    "                     llm_model_path='meta-llama/Meta-Llama-3-8B-Instruct',\n",
    "                     llm_frozen='True',\n",
    "                     revision=\"main\") # args are defaulted in the class"
   ]
  },
  {
   "cell_type": "code",
   "execution_count": 13,
   "metadata": {},
   "outputs": [
    {
     "name": "stdout",
     "output_type": "stream",
     "text": [
      "Loading checkpoint from ../checkpoints/test_run/epoch_5_best.pth.\n"
     ]
    },
    {
     "ename": "RuntimeError",
     "evalue": "Error(s) in loading state_dict for GraphLLM:\n\tMissing key(s) in state_dict: \"model.model.embed_tokens.weight\", \"model.model.layers.0.self_attn.q_proj.weight\", \"model.model.layers.0.self_attn.k_proj.weight\", \"model.model.layers.0.self_attn.v_proj.weight\", \"model.model.layers.0.self_attn.o_proj.weight\", \"model.model.layers.0.mlp.gate_proj.weight\", \"model.model.layers.0.mlp.up_proj.weight\", \"model.model.layers.0.mlp.down_proj.weight\", \"model.model.layers.0.input_layernorm.weight\", \"model.model.layers.0.post_attention_layernorm.weight\", \"model.model.layers.1.self_attn.q_proj.weight\", \"model.model.layers.1.self_attn.k_proj.weight\", \"model.model.layers.1.self_attn.v_proj.weight\", \"model.model.layers.1.self_attn.o_proj.weight\", \"model.model.layers.1.mlp.gate_proj.weight\", \"model.model.layers.1.mlp.up_proj.weight\", \"model.model.layers.1.mlp.down_proj.weight\", \"model.model.layers.1.input_layernorm.weight\", \"model.model.layers.1.post_attention_layernorm.weight\", \"model.model.layers.2.self_attn.q_proj.weight\", \"model.model.layers.2.self_attn.k_proj.weight\", \"model.model.layers.2.self_attn.v_proj.weight\", \"model.model.layers.2.self_attn.o_proj.weight\", \"model.model.layers.2.mlp.gate_proj.weight\", \"model.model.layers.2.mlp.up_proj.weight\", \"model.model.layers.2.mlp.down_proj.weight\", \"model.model.layers.2.input_layernorm.weight\", \"model.model.layers.2.post_attention_layernorm.weight\", \"model.model.layers.3.self_attn.q_proj.weight\", \"model.model.layers.3.self_attn.k_proj.weight\", \"model.model.layers.3.self_attn.v_proj.weight\", \"model.model.layers.3.self_attn.o_proj.weight\", \"model.model.layers.3.mlp.gate_proj.weight\", \"model.model.layers.3.mlp.up_proj.weight\", \"model.model.layers.3.mlp.down_proj.weight\", \"model.model.layers.3.input_layernorm.weight\", \"model.model.layers.3.post_attention_layernorm.weight\", \"model.model.layers.4.self_attn.q_proj.weight\", \"model.model.layers.4.self_attn.k_proj.weight\", \"model.model.layers.4.self_attn.v_proj.weight\", \"model.model.layers.4.self_attn.o_proj.weight\", \"model.model.layers.4.mlp.gate_proj.weight\", \"model.model.layers.4.mlp.up_proj.weight\", \"model.model.layers.4.mlp.down_proj.weight\", \"model.model.layers.4.input_layernorm.weight\", \"model.model.layers.4.post_attention_layernorm.weight\", \"model.model.layers.5.self_attn.q_proj.weight\", \"model.model.layers.5.self_attn.k_proj.weight\", \"model.model.layers.5.self_attn.v_proj.weight\", \"model.model.layers.5.self_attn.o_proj.weight\", \"model.model.layers.5.mlp.gate_proj.weight\", \"model.model.layers.5.mlp.up_proj.weight\", \"model.model.layers.5.mlp.down_proj.weight\", \"model.model.layers.5.input_layernorm.weight\", \"model.model.layers.5.post_attention_layernorm.weight\", \"model.model.layers.6.self_attn.q_proj.weight\", \"model.model.layers.6.self_attn.k_proj.weight\", \"model.model.layers.6.self_attn.v_proj.weight\", \"model.model.layers.6.self_attn.o_proj.weight\", \"model.model.layers.6.mlp.gate_proj.weight\", \"model.model.layers.6.mlp.up_proj.weight\", \"model.model.layers.6.mlp.down_proj.weight\", \"model.model.layers.6.input_layernorm.weight\", \"model.model.layers.6.post_attention_layernorm.weight\", \"model.model.layers.7.self_attn.q_proj.weight\", \"model.model.layers.7.self_attn.k_proj.weight\", \"model.model.layers.7.self_attn.v_proj.weight\", \"model.model.layers.7.self_attn.o_proj.weight\", \"model.model.layers.7.mlp.gate_proj.weight\", \"model.model.layers.7.mlp.up_proj.weight\", \"model.model.layers.7.mlp.down_proj.weight\", \"model.model.layers.7.input_layernorm.weight\", \"model.model.layers.7.post_attention_layernorm.weight\", \"model.model.layers.8.self_attn.q_proj.weight\", \"model.model.layers.8.self_attn.k_proj.weight\", \"model.model.layers.8.self_attn.v_proj.weight\", \"model.model.layers.8.self_attn.o_proj.weight\", \"model.model.layers.8.mlp.gate_proj.weight\", \"model.model.layers.8.mlp.up_proj.weight\", \"model.model.layers.8.mlp.down_proj.weight\", \"model.model.layers.8.input_layernorm.weight\", \"model.model.layers.8.post_attention_layernorm.weight\", \"model.model.layers.9.self_attn.q_proj.weight\", \"model.model.layers.9.self_attn.k_proj.weight\", \"model.model.layers.9.self_attn.v_proj.weight\", \"model.model.layers.9.self_attn.o_proj.weight\", \"model.model.layers.9.mlp.gate_proj.weight\", \"model.model.layers.9.mlp.up_proj.weight\", \"model.model.layers.9.mlp.down_proj.weight\", \"model.model.layers.9.input_layernorm.weight\", \"model.model.layers.9.post_attention_layernorm.weight\", \"model.model.layers.10.self_attn.q_proj.weight\", \"model.model.layers.10.self_attn.k_proj.weight\", \"model.model.layers.10.self_attn.v_proj.weight\", \"model.model.layers.10.self_attn.o_proj.weight\", \"model.model.layers.10.mlp.gate_proj.weight\", \"model.model.layers.10.mlp.up_proj.weight\", \"model.model.layers.10.mlp.down_proj.weight\", \"model.model.layers.10.input_layernorm.weight\", \"model.model.layers.10.post_attention_layernorm.weight\", \"model.model.layers.11.self_attn.q_proj.weight\", \"model.model.layers.11.self_attn.k_proj.weight\", \"model.model.layers.11.self_attn.v_proj.weight\", \"model.model.layers.11.self_attn.o_proj.weight\", \"model.model.layers.11.mlp.gate_proj.weight\", \"model.model.layers.11.mlp.up_proj.weight\", \"model.model.layers.11.mlp.down_proj.weight\", \"model.model.layers.11.input_layernorm.weight\", \"model.model.layers.11.post_attention_layernorm.weight\", \"model.model.layers.12.self_attn.q_proj.weight\", \"model.model.layers.12.self_attn.k_proj.weight\", \"model.model.layers.12.self_attn.v_proj.weight\", \"model.model.layers.12.self_attn.o_proj.weight\", \"model.model.layers.12.mlp.gate_proj.weight\", \"model.model.layers.12.mlp.up_proj.weight\", \"model.model.layers.12.mlp.down_proj.weight\", \"model.model.layers.12.input_layernorm.weight\", \"model.model.layers.12.post_attention_layernorm.weight\", \"model.model.layers.13.self_attn.q_proj.weight\", \"model.model.layers.13.self_attn.k_proj.weight\", \"model.model.layers.13.self_attn.v_proj.weight\", \"model.model.layers.13.self_attn.o_proj.weight\", \"model.model.layers.13.mlp.gate_proj.weight\", \"model.model.layers.13.mlp.up_proj.weight\", \"model.model.layers.13.mlp.down_proj.weight\", \"model.model.layers.13.input_layernorm.weight\", \"model.model.layers.13.post_attention_layernorm.weight\", \"model.model.layers.14.self_attn.q_proj.weight\", \"model.model.layers.14.self_attn.k_proj.weight\", \"model.model.layers.14.self_attn.v_proj.weight\", \"model.model.layers.14.self_attn.o_proj.weight\", \"model.model.layers.14.mlp.gate_proj.weight\", \"model.model.layers.14.mlp.up_proj.weight\", \"model.model.layers.14.mlp.down_proj.weight\", \"model.model.layers.14.input_layernorm.weight\", \"model.model.layers.14.post_attention_layernorm.weight\", \"model.model.layers.15.self_attn.q_proj.weight\", \"model.model.layers.15.self_attn.k_proj.weight\", \"model.model.layers.15.self_attn.v_proj.weight\", \"model.model.layers.15.self_attn.o_proj.weight\", \"model.model.layers.15.mlp.gate_proj.weight\", \"model.model.layers.15.mlp.up_proj.weight\", \"model.model.layers.15.mlp.down_proj.weight\", \"model.model.layers.15.input_layernorm.weight\", \"model.model.layers.15.post_attention_layernorm.weight\", \"model.model.layers.16.self_attn.q_proj.weight\", \"model.model.layers.16.self_attn.k_proj.weight\", \"model.model.layers.16.self_attn.v_proj.weight\", \"model.model.layers.16.self_attn.o_proj.weight\", \"model.model.layers.16.mlp.gate_proj.weight\", \"model.model.layers.16.mlp.up_proj.weight\", \"model.model.layers.16.mlp.down_proj.weight\", \"model.model.layers.16.input_layernorm.weight\", \"model.model.layers.16.post_attention_layernorm.weight\", \"model.model.layers.17.self_attn.q_proj.weight\", \"model.model.layers.17.self_attn.k_proj.weight\", \"model.model.layers.17.self_attn.v_proj.weight\", \"model.model.layers.17.self_attn.o_proj.weight\", \"model.model.layers.17.mlp.gate_proj.weight\", \"model.model.layers.17.mlp.up_proj.weight\", \"model.model.layers.17.mlp.down_proj.weight\", \"model.model.layers.17.input_layernorm.weight\", \"model.model.layers.17.post_attention_layernorm.weight\", \"model.model.layers.18.self_attn.q_proj.weight\", \"model.model.layers.18.self_attn.k_proj.weight\", \"model.model.layers.18.self_attn.v_proj.weight\", \"model.model.layers.18.self_attn.o_proj.weight\", \"model.model.layers.18.mlp.gate_proj.weight\", \"model.model.layers.18.mlp.up_proj.weight\", \"model.model.layers.18.mlp.down_proj.weight\", \"model.model.layers.18.input_layernorm.weight\", \"model.model.layers.18.post_attention_layernorm.weight\", \"model.model.layers.19.self_attn.q_proj.weight\", \"model.model.layers.19.self_attn.k_proj.weight\", \"model.model.layers.19.self_attn.v_proj.weight\", \"model.model.layers.19.self_attn.o_proj.weight\", \"model.model.layers.19.mlp.gate_proj.weight\", \"model.model.layers.19.mlp.up_proj.weight\", \"model.model.layers.19.mlp.down_proj.weight\", \"model.model.layers.19.input_layernorm.weight\", \"model.model.layers.19.post_attention_layernorm.weight\", \"model.model.layers.20.self_attn.q_proj.weight\", \"model.model.layers.20.self_attn.k_proj.weight\", \"model.model.layers.20.self_attn.v_proj.weight\", \"model.model.layers.20.self_attn.o_proj.weight\", \"model.model.layers.20.mlp.gate_proj.weight\", \"model.model.layers.20.mlp.up_proj.weight\", \"model.model.layers.20.mlp.down_proj.weight\", \"model.model.layers.20.input_layernorm.weight\", \"model.model.layers.20.post_attention_layernorm.weight\", \"model.model.layers.21.self_attn.q_proj.weight\", \"model.model.layers.21.self_attn.k_proj.weight\", \"model.model.layers.21.self_attn.v_proj.weight\", \"model.model.layers.21.self_attn.o_proj.weight\", \"model.model.layers.21.mlp.gate_proj.weight\", \"model.model.layers.21.mlp.up_proj.weight\", \"model.model.layers.21.mlp.down_proj.weight\", \"model.model.layers.21.input_layernorm.weight\", \"model.model.layers.21.post_attention_layernorm.weight\", \"model.model.layers.22.self_attn.q_proj.weight\", \"model.model.layers.22.self_attn.k_proj.weight\", \"model.model.layers.22.self_attn.v_proj.weight\", \"model.model.layers.22.self_attn.o_proj.weight\", \"model.model.layers.22.mlp.gate_proj.weight\", \"model.model.layers.22.mlp.up_proj.weight\", \"model.model.layers.22.mlp.down_proj.weight\", \"model.model.layers.22.input_layernorm.weight\", \"model.model.layers.22.post_attention_layernorm.weight\", \"model.model.layers.23.self_attn.q_proj.weight\", \"model.model.layers.23.self_attn.k_proj.weight\", \"model.model.layers.23.self_attn.v_proj.weight\", \"model.model.layers.23.self_attn.o_proj.weight\", \"model.model.layers.23.mlp.gate_proj.weight\", \"model.model.layers.23.mlp.up_proj.weight\", \"model.model.layers.23.mlp.down_proj.weight\", \"model.model.layers.23.input_layernorm.weight\", \"model.model.layers.23.post_attention_layernorm.weight\", \"model.model.layers.24.self_attn.q_proj.weight\", \"model.model.layers.24.self_attn.k_proj.weight\", \"model.model.layers.24.self_attn.v_proj.weight\", \"model.model.layers.24.self_attn.o_proj.weight\", \"model.model.layers.24.mlp.gate_proj.weight\", \"model.model.layers.24.mlp.up_proj.weight\", \"model.model.layers.24.mlp.down_proj.weight\", \"model.model.layers.24.input_layernorm.weight\", \"model.model.layers.24.post_attention_layernorm.weight\", \"model.model.layers.25.self_attn.q_proj.weight\", \"model.model.layers.25.self_attn.k_proj.weight\", \"model.model.layers.25.self_attn.v_proj.weight\", \"model.model.layers.25.self_attn.o_proj.weight\", \"model.model.layers.25.mlp.gate_proj.weight\", \"model.model.layers.25.mlp.up_proj.weight\", \"model.model.layers.25.mlp.down_proj.weight\", \"model.model.layers.25.input_layernorm.weight\", \"model.model.layers.25.post_attention_layernorm.weight\", \"model.model.layers.26.self_attn.q_proj.weight\", \"model.model.layers.26.self_attn.k_proj.weight\", \"model.model.layers.26.self_attn.v_proj.weight\", \"model.model.layers.26.self_attn.o_proj.weight\", \"model.model.layers.26.mlp.gate_proj.weight\", \"model.model.layers.26.mlp.up_proj.weight\", \"model.model.layers.26.mlp.down_proj.weight\", \"model.model.layers.26.input_layernorm.weight\", \"model.model.layers.26.post_attention_layernorm.weight\", \"model.model.layers.27.self_attn.q_proj.weight\", \"model.model.layers.27.self_attn.k_proj.weight\", \"model.model.layers.27.self_attn.v_proj.weight\", \"model.model.layers.27.self_attn.o_proj.weight\", \"model.model.layers.27.mlp.gate_proj.weight\", \"model.model.layers.27.mlp.up_proj.weight\", \"model.model.layers.27.mlp.down_proj.weight\", \"model.model.layers.27.input_layernorm.weight\", \"model.model.layers.27.post_attention_layernorm.weight\", \"model.model.layers.28.self_attn.q_proj.weight\", \"model.model.layers.28.self_attn.k_proj.weight\", \"model.model.layers.28.self_attn.v_proj.weight\", \"model.model.layers.28.self_attn.o_proj.weight\", \"model.model.layers.28.mlp.gate_proj.weight\", \"model.model.layers.28.mlp.up_proj.weight\", \"model.model.layers.28.mlp.down_proj.weight\", \"model.model.layers.28.input_layernorm.weight\", \"model.model.layers.28.post_attention_layernorm.weight\", \"model.model.layers.29.self_attn.q_proj.weight\", \"model.model.layers.29.self_attn.k_proj.weight\", \"model.model.layers.29.self_attn.v_proj.weight\", \"model.model.layers.29.self_attn.o_proj.weight\", \"model.model.layers.29.mlp.gate_proj.weight\", \"model.model.layers.29.mlp.up_proj.weight\", \"model.model.layers.29.mlp.down_proj.weight\", \"model.model.layers.29.input_layernorm.weight\", \"model.model.layers.29.post_attention_layernorm.weight\", \"model.model.layers.30.self_attn.q_proj.weight\", \"model.model.layers.30.self_attn.k_proj.weight\", \"model.model.layers.30.self_attn.v_proj.weight\", \"model.model.layers.30.self_attn.o_proj.weight\", \"model.model.layers.30.mlp.gate_proj.weight\", \"model.model.layers.30.mlp.up_proj.weight\", \"model.model.layers.30.mlp.down_proj.weight\", \"model.model.layers.30.input_layernorm.weight\", \"model.model.layers.30.post_attention_layernorm.weight\", \"model.model.layers.31.self_attn.q_proj.weight\", \"model.model.layers.31.self_attn.k_proj.weight\", \"model.model.layers.31.self_attn.v_proj.weight\", \"model.model.layers.31.self_attn.o_proj.weight\", \"model.model.layers.31.mlp.gate_proj.weight\", \"model.model.layers.31.mlp.up_proj.weight\", \"model.model.layers.31.mlp.down_proj.weight\", \"model.model.layers.31.input_layernorm.weight\", \"model.model.layers.31.post_attention_layernorm.weight\", \"model.model.norm.weight\", \"model.lm_head.weight\". ",
     "output_type": "error",
     "traceback": [
      "\u001b[0;31m---------------------------------------------------------------------------\u001b[0m",
      "\u001b[0;31mRuntimeError\u001b[0m                              Traceback (most recent call last)",
      "Cell \u001b[0;32mIn[13], line 5\u001b[0m\n\u001b[1;32m      2\u001b[0m path \u001b[38;5;241m=\u001b[39m \u001b[38;5;124m'\u001b[39m\u001b[38;5;124m../checkpoints/test_run/epoch_5_best.pth\u001b[39m\u001b[38;5;124m'\u001b[39m\n\u001b[1;32m      4\u001b[0m \u001b[38;5;66;03m# load model\u001b[39;00m\n\u001b[0;32m----> 5\u001b[0m trained_graph_llm \u001b[38;5;241m=\u001b[39m \u001b[43m_reload_best_model\u001b[49m\u001b[43m(\u001b[49m\u001b[43mbase_graph_llm\u001b[49m\u001b[43m,\u001b[49m\u001b[43m \u001b[49m\u001b[43mpath\u001b[49m\u001b[43m)\u001b[49m\n",
      "File \u001b[0;32m/mnt/DGX01/Personal/krusepi/codebase/projects/llms/JAIL-RAG/notebooks/../utils/ckpt.py:65\u001b[0m, in \u001b[0;36m_reload_best_model\u001b[0;34m(model, path)\u001b[0m\n\u001b[1;32m     62\u001b[0m \u001b[38;5;28mprint\u001b[39m(\u001b[38;5;124mf\u001b[39m\u001b[38;5;124m\"\u001b[39m\u001b[38;5;124mLoading checkpoint from \u001b[39m\u001b[38;5;132;01m{\u001b[39;00mpath\u001b[38;5;132;01m}\u001b[39;00m\u001b[38;5;124m.\u001b[39m\u001b[38;5;124m\"\u001b[39m)\n\u001b[1;32m     64\u001b[0m checkpoint \u001b[38;5;241m=\u001b[39m torch\u001b[38;5;241m.\u001b[39mload(path, map_location\u001b[38;5;241m=\u001b[39m\u001b[38;5;124m\"\u001b[39m\u001b[38;5;124mcpu\u001b[39m\u001b[38;5;124m\"\u001b[39m)\n\u001b[0;32m---> 65\u001b[0m \u001b[43mmodel\u001b[49m\u001b[38;5;241;43m.\u001b[39;49m\u001b[43mload_state_dict\u001b[49m\u001b[43m(\u001b[49m\u001b[43mcheckpoint\u001b[49m\u001b[43m[\u001b[49m\u001b[38;5;124;43m\"\u001b[39;49m\u001b[38;5;124;43mmodel\u001b[39;49m\u001b[38;5;124;43m\"\u001b[39;49m\u001b[43m]\u001b[49m\u001b[43m)\u001b[49m\n\u001b[1;32m     67\u001b[0m \u001b[38;5;28;01mreturn\u001b[39;00m model\n",
      "File \u001b[0;32m~/miniconda3/envs/rag/lib/python3.12/site-packages/torch/nn/modules/module.py:2215\u001b[0m, in \u001b[0;36mModule.load_state_dict\u001b[0;34m(self, state_dict, strict, assign)\u001b[0m\n\u001b[1;32m   2210\u001b[0m         error_msgs\u001b[38;5;241m.\u001b[39minsert(\n\u001b[1;32m   2211\u001b[0m             \u001b[38;5;241m0\u001b[39m, \u001b[38;5;124m'\u001b[39m\u001b[38;5;124mMissing key(s) in state_dict: \u001b[39m\u001b[38;5;132;01m{}\u001b[39;00m\u001b[38;5;124m. \u001b[39m\u001b[38;5;124m'\u001b[39m\u001b[38;5;241m.\u001b[39mformat(\n\u001b[1;32m   2212\u001b[0m                 \u001b[38;5;124m'\u001b[39m\u001b[38;5;124m, \u001b[39m\u001b[38;5;124m'\u001b[39m\u001b[38;5;241m.\u001b[39mjoin(\u001b[38;5;124mf\u001b[39m\u001b[38;5;124m'\u001b[39m\u001b[38;5;124m\"\u001b[39m\u001b[38;5;132;01m{\u001b[39;00mk\u001b[38;5;132;01m}\u001b[39;00m\u001b[38;5;124m\"\u001b[39m\u001b[38;5;124m'\u001b[39m \u001b[38;5;28;01mfor\u001b[39;00m k \u001b[38;5;129;01min\u001b[39;00m missing_keys)))\n\u001b[1;32m   2214\u001b[0m \u001b[38;5;28;01mif\u001b[39;00m \u001b[38;5;28mlen\u001b[39m(error_msgs) \u001b[38;5;241m>\u001b[39m \u001b[38;5;241m0\u001b[39m:\n\u001b[0;32m-> 2215\u001b[0m     \u001b[38;5;28;01mraise\u001b[39;00m \u001b[38;5;167;01mRuntimeError\u001b[39;00m(\u001b[38;5;124m'\u001b[39m\u001b[38;5;124mError(s) in loading state_dict for \u001b[39m\u001b[38;5;132;01m{}\u001b[39;00m\u001b[38;5;124m:\u001b[39m\u001b[38;5;130;01m\\n\u001b[39;00m\u001b[38;5;130;01m\\t\u001b[39;00m\u001b[38;5;132;01m{}\u001b[39;00m\u001b[38;5;124m'\u001b[39m\u001b[38;5;241m.\u001b[39mformat(\n\u001b[1;32m   2216\u001b[0m                        \u001b[38;5;28mself\u001b[39m\u001b[38;5;241m.\u001b[39m\u001b[38;5;18m__class__\u001b[39m\u001b[38;5;241m.\u001b[39m\u001b[38;5;18m__name__\u001b[39m, \u001b[38;5;124m\"\u001b[39m\u001b[38;5;130;01m\\n\u001b[39;00m\u001b[38;5;130;01m\\t\u001b[39;00m\u001b[38;5;124m\"\u001b[39m\u001b[38;5;241m.\u001b[39mjoin(error_msgs)))\n\u001b[1;32m   2217\u001b[0m \u001b[38;5;28;01mreturn\u001b[39;00m _IncompatibleKeys(missing_keys, unexpected_keys)\n",
      "\u001b[0;31mRuntimeError\u001b[0m: Error(s) in loading state_dict for GraphLLM:\n\tMissing key(s) in state_dict: \"model.model.embed_tokens.weight\", \"model.model.layers.0.self_attn.q_proj.weight\", \"model.model.layers.0.self_attn.k_proj.weight\", \"model.model.layers.0.self_attn.v_proj.weight\", \"model.model.layers.0.self_attn.o_proj.weight\", \"model.model.layers.0.mlp.gate_proj.weight\", \"model.model.layers.0.mlp.up_proj.weight\", \"model.model.layers.0.mlp.down_proj.weight\", \"model.model.layers.0.input_layernorm.weight\", \"model.model.layers.0.post_attention_layernorm.weight\", \"model.model.layers.1.self_attn.q_proj.weight\", \"model.model.layers.1.self_attn.k_proj.weight\", \"model.model.layers.1.self_attn.v_proj.weight\", \"model.model.layers.1.self_attn.o_proj.weight\", \"model.model.layers.1.mlp.gate_proj.weight\", \"model.model.layers.1.mlp.up_proj.weight\", \"model.model.layers.1.mlp.down_proj.weight\", \"model.model.layers.1.input_layernorm.weight\", \"model.model.layers.1.post_attention_layernorm.weight\", \"model.model.layers.2.self_attn.q_proj.weight\", \"model.model.layers.2.self_attn.k_proj.weight\", \"model.model.layers.2.self_attn.v_proj.weight\", \"model.model.layers.2.self_attn.o_proj.weight\", \"model.model.layers.2.mlp.gate_proj.weight\", \"model.model.layers.2.mlp.up_proj.weight\", \"model.model.layers.2.mlp.down_proj.weight\", \"model.model.layers.2.input_layernorm.weight\", \"model.model.layers.2.post_attention_layernorm.weight\", \"model.model.layers.3.self_attn.q_proj.weight\", \"model.model.layers.3.self_attn.k_proj.weight\", \"model.model.layers.3.self_attn.v_proj.weight\", \"model.model.layers.3.self_attn.o_proj.weight\", \"model.model.layers.3.mlp.gate_proj.weight\", \"model.model.layers.3.mlp.up_proj.weight\", \"model.model.layers.3.mlp.down_proj.weight\", \"model.model.layers.3.input_layernorm.weight\", \"model.model.layers.3.post_attention_layernorm.weight\", \"model.model.layers.4.self_attn.q_proj.weight\", \"model.model.layers.4.self_attn.k_proj.weight\", \"model.model.layers.4.self_attn.v_proj.weight\", \"model.model.layers.4.self_attn.o_proj.weight\", \"model.model.layers.4.mlp.gate_proj.weight\", \"model.model.layers.4.mlp.up_proj.weight\", \"model.model.layers.4.mlp.down_proj.weight\", \"model.model.layers.4.input_layernorm.weight\", \"model.model.layers.4.post_attention_layernorm.weight\", \"model.model.layers.5.self_attn.q_proj.weight\", \"model.model.layers.5.self_attn.k_proj.weight\", \"model.model.layers.5.self_attn.v_proj.weight\", \"model.model.layers.5.self_attn.o_proj.weight\", \"model.model.layers.5.mlp.gate_proj.weight\", \"model.model.layers.5.mlp.up_proj.weight\", \"model.model.layers.5.mlp.down_proj.weight\", \"model.model.layers.5.input_layernorm.weight\", \"model.model.layers.5.post_attention_layernorm.weight\", \"model.model.layers.6.self_attn.q_proj.weight\", \"model.model.layers.6.self_attn.k_proj.weight\", \"model.model.layers.6.self_attn.v_proj.weight\", \"model.model.layers.6.self_attn.o_proj.weight\", \"model.model.layers.6.mlp.gate_proj.weight\", \"model.model.layers.6.mlp.up_proj.weight\", \"model.model.layers.6.mlp.down_proj.weight\", \"model.model.layers.6.input_layernorm.weight\", \"model.model.layers.6.post_attention_layernorm.weight\", \"model.model.layers.7.self_attn.q_proj.weight\", \"model.model.layers.7.self_attn.k_proj.weight\", \"model.model.layers.7.self_attn.v_proj.weight\", \"model.model.layers.7.self_attn.o_proj.weight\", \"model.model.layers.7.mlp.gate_proj.weight\", \"model.model.layers.7.mlp.up_proj.weight\", \"model.model.layers.7.mlp.down_proj.weight\", \"model.model.layers.7.input_layernorm.weight\", \"model.model.layers.7.post_attention_layernorm.weight\", \"model.model.layers.8.self_attn.q_proj.weight\", \"model.model.layers.8.self_attn.k_proj.weight\", \"model.model.layers.8.self_attn.v_proj.weight\", \"model.model.layers.8.self_attn.o_proj.weight\", \"model.model.layers.8.mlp.gate_proj.weight\", \"model.model.layers.8.mlp.up_proj.weight\", \"model.model.layers.8.mlp.down_proj.weight\", \"model.model.layers.8.input_layernorm.weight\", \"model.model.layers.8.post_attention_layernorm.weight\", \"model.model.layers.9.self_attn.q_proj.weight\", \"model.model.layers.9.self_attn.k_proj.weight\", \"model.model.layers.9.self_attn.v_proj.weight\", \"model.model.layers.9.self_attn.o_proj.weight\", \"model.model.layers.9.mlp.gate_proj.weight\", \"model.model.layers.9.mlp.up_proj.weight\", \"model.model.layers.9.mlp.down_proj.weight\", \"model.model.layers.9.input_layernorm.weight\", \"model.model.layers.9.post_attention_layernorm.weight\", \"model.model.layers.10.self_attn.q_proj.weight\", \"model.model.layers.10.self_attn.k_proj.weight\", \"model.model.layers.10.self_attn.v_proj.weight\", \"model.model.layers.10.self_attn.o_proj.weight\", \"model.model.layers.10.mlp.gate_proj.weight\", \"model.model.layers.10.mlp.up_proj.weight\", \"model.model.layers.10.mlp.down_proj.weight\", \"model.model.layers.10.input_layernorm.weight\", \"model.model.layers.10.post_attention_layernorm.weight\", \"model.model.layers.11.self_attn.q_proj.weight\", \"model.model.layers.11.self_attn.k_proj.weight\", \"model.model.layers.11.self_attn.v_proj.weight\", \"model.model.layers.11.self_attn.o_proj.weight\", \"model.model.layers.11.mlp.gate_proj.weight\", \"model.model.layers.11.mlp.up_proj.weight\", \"model.model.layers.11.mlp.down_proj.weight\", \"model.model.layers.11.input_layernorm.weight\", \"model.model.layers.11.post_attention_layernorm.weight\", \"model.model.layers.12.self_attn.q_proj.weight\", \"model.model.layers.12.self_attn.k_proj.weight\", \"model.model.layers.12.self_attn.v_proj.weight\", \"model.model.layers.12.self_attn.o_proj.weight\", \"model.model.layers.12.mlp.gate_proj.weight\", \"model.model.layers.12.mlp.up_proj.weight\", \"model.model.layers.12.mlp.down_proj.weight\", \"model.model.layers.12.input_layernorm.weight\", \"model.model.layers.12.post_attention_layernorm.weight\", \"model.model.layers.13.self_attn.q_proj.weight\", \"model.model.layers.13.self_attn.k_proj.weight\", \"model.model.layers.13.self_attn.v_proj.weight\", \"model.model.layers.13.self_attn.o_proj.weight\", \"model.model.layers.13.mlp.gate_proj.weight\", \"model.model.layers.13.mlp.up_proj.weight\", \"model.model.layers.13.mlp.down_proj.weight\", \"model.model.layers.13.input_layernorm.weight\", \"model.model.layers.13.post_attention_layernorm.weight\", \"model.model.layers.14.self_attn.q_proj.weight\", \"model.model.layers.14.self_attn.k_proj.weight\", \"model.model.layers.14.self_attn.v_proj.weight\", \"model.model.layers.14.self_attn.o_proj.weight\", \"model.model.layers.14.mlp.gate_proj.weight\", \"model.model.layers.14.mlp.up_proj.weight\", \"model.model.layers.14.mlp.down_proj.weight\", \"model.model.layers.14.input_layernorm.weight\", \"model.model.layers.14.post_attention_layernorm.weight\", \"model.model.layers.15.self_attn.q_proj.weight\", \"model.model.layers.15.self_attn.k_proj.weight\", \"model.model.layers.15.self_attn.v_proj.weight\", \"model.model.layers.15.self_attn.o_proj.weight\", \"model.model.layers.15.mlp.gate_proj.weight\", \"model.model.layers.15.mlp.up_proj.weight\", \"model.model.layers.15.mlp.down_proj.weight\", \"model.model.layers.15.input_layernorm.weight\", \"model.model.layers.15.post_attention_layernorm.weight\", \"model.model.layers.16.self_attn.q_proj.weight\", \"model.model.layers.16.self_attn.k_proj.weight\", \"model.model.layers.16.self_attn.v_proj.weight\", \"model.model.layers.16.self_attn.o_proj.weight\", \"model.model.layers.16.mlp.gate_proj.weight\", \"model.model.layers.16.mlp.up_proj.weight\", \"model.model.layers.16.mlp.down_proj.weight\", \"model.model.layers.16.input_layernorm.weight\", \"model.model.layers.16.post_attention_layernorm.weight\", \"model.model.layers.17.self_attn.q_proj.weight\", \"model.model.layers.17.self_attn.k_proj.weight\", \"model.model.layers.17.self_attn.v_proj.weight\", \"model.model.layers.17.self_attn.o_proj.weight\", \"model.model.layers.17.mlp.gate_proj.weight\", \"model.model.layers.17.mlp.up_proj.weight\", \"model.model.layers.17.mlp.down_proj.weight\", \"model.model.layers.17.input_layernorm.weight\", \"model.model.layers.17.post_attention_layernorm.weight\", \"model.model.layers.18.self_attn.q_proj.weight\", \"model.model.layers.18.self_attn.k_proj.weight\", \"model.model.layers.18.self_attn.v_proj.weight\", \"model.model.layers.18.self_attn.o_proj.weight\", \"model.model.layers.18.mlp.gate_proj.weight\", \"model.model.layers.18.mlp.up_proj.weight\", \"model.model.layers.18.mlp.down_proj.weight\", \"model.model.layers.18.input_layernorm.weight\", \"model.model.layers.18.post_attention_layernorm.weight\", \"model.model.layers.19.self_attn.q_proj.weight\", \"model.model.layers.19.self_attn.k_proj.weight\", \"model.model.layers.19.self_attn.v_proj.weight\", \"model.model.layers.19.self_attn.o_proj.weight\", \"model.model.layers.19.mlp.gate_proj.weight\", \"model.model.layers.19.mlp.up_proj.weight\", \"model.model.layers.19.mlp.down_proj.weight\", \"model.model.layers.19.input_layernorm.weight\", \"model.model.layers.19.post_attention_layernorm.weight\", \"model.model.layers.20.self_attn.q_proj.weight\", \"model.model.layers.20.self_attn.k_proj.weight\", \"model.model.layers.20.self_attn.v_proj.weight\", \"model.model.layers.20.self_attn.o_proj.weight\", \"model.model.layers.20.mlp.gate_proj.weight\", \"model.model.layers.20.mlp.up_proj.weight\", \"model.model.layers.20.mlp.down_proj.weight\", \"model.model.layers.20.input_layernorm.weight\", \"model.model.layers.20.post_attention_layernorm.weight\", \"model.model.layers.21.self_attn.q_proj.weight\", \"model.model.layers.21.self_attn.k_proj.weight\", \"model.model.layers.21.self_attn.v_proj.weight\", \"model.model.layers.21.self_attn.o_proj.weight\", \"model.model.layers.21.mlp.gate_proj.weight\", \"model.model.layers.21.mlp.up_proj.weight\", \"model.model.layers.21.mlp.down_proj.weight\", \"model.model.layers.21.input_layernorm.weight\", \"model.model.layers.21.post_attention_layernorm.weight\", \"model.model.layers.22.self_attn.q_proj.weight\", \"model.model.layers.22.self_attn.k_proj.weight\", \"model.model.layers.22.self_attn.v_proj.weight\", \"model.model.layers.22.self_attn.o_proj.weight\", \"model.model.layers.22.mlp.gate_proj.weight\", \"model.model.layers.22.mlp.up_proj.weight\", \"model.model.layers.22.mlp.down_proj.weight\", \"model.model.layers.22.input_layernorm.weight\", \"model.model.layers.22.post_attention_layernorm.weight\", \"model.model.layers.23.self_attn.q_proj.weight\", \"model.model.layers.23.self_attn.k_proj.weight\", \"model.model.layers.23.self_attn.v_proj.weight\", \"model.model.layers.23.self_attn.o_proj.weight\", \"model.model.layers.23.mlp.gate_proj.weight\", \"model.model.layers.23.mlp.up_proj.weight\", \"model.model.layers.23.mlp.down_proj.weight\", \"model.model.layers.23.input_layernorm.weight\", \"model.model.layers.23.post_attention_layernorm.weight\", \"model.model.layers.24.self_attn.q_proj.weight\", \"model.model.layers.24.self_attn.k_proj.weight\", \"model.model.layers.24.self_attn.v_proj.weight\", \"model.model.layers.24.self_attn.o_proj.weight\", \"model.model.layers.24.mlp.gate_proj.weight\", \"model.model.layers.24.mlp.up_proj.weight\", \"model.model.layers.24.mlp.down_proj.weight\", \"model.model.layers.24.input_layernorm.weight\", \"model.model.layers.24.post_attention_layernorm.weight\", \"model.model.layers.25.self_attn.q_proj.weight\", \"model.model.layers.25.self_attn.k_proj.weight\", \"model.model.layers.25.self_attn.v_proj.weight\", \"model.model.layers.25.self_attn.o_proj.weight\", \"model.model.layers.25.mlp.gate_proj.weight\", \"model.model.layers.25.mlp.up_proj.weight\", \"model.model.layers.25.mlp.down_proj.weight\", \"model.model.layers.25.input_layernorm.weight\", \"model.model.layers.25.post_attention_layernorm.weight\", \"model.model.layers.26.self_attn.q_proj.weight\", \"model.model.layers.26.self_attn.k_proj.weight\", \"model.model.layers.26.self_attn.v_proj.weight\", \"model.model.layers.26.self_attn.o_proj.weight\", \"model.model.layers.26.mlp.gate_proj.weight\", \"model.model.layers.26.mlp.up_proj.weight\", \"model.model.layers.26.mlp.down_proj.weight\", \"model.model.layers.26.input_layernorm.weight\", \"model.model.layers.26.post_attention_layernorm.weight\", \"model.model.layers.27.self_attn.q_proj.weight\", \"model.model.layers.27.self_attn.k_proj.weight\", \"model.model.layers.27.self_attn.v_proj.weight\", \"model.model.layers.27.self_attn.o_proj.weight\", \"model.model.layers.27.mlp.gate_proj.weight\", \"model.model.layers.27.mlp.up_proj.weight\", \"model.model.layers.27.mlp.down_proj.weight\", \"model.model.layers.27.input_layernorm.weight\", \"model.model.layers.27.post_attention_layernorm.weight\", \"model.model.layers.28.self_attn.q_proj.weight\", \"model.model.layers.28.self_attn.k_proj.weight\", \"model.model.layers.28.self_attn.v_proj.weight\", \"model.model.layers.28.self_attn.o_proj.weight\", \"model.model.layers.28.mlp.gate_proj.weight\", \"model.model.layers.28.mlp.up_proj.weight\", \"model.model.layers.28.mlp.down_proj.weight\", \"model.model.layers.28.input_layernorm.weight\", \"model.model.layers.28.post_attention_layernorm.weight\", \"model.model.layers.29.self_attn.q_proj.weight\", \"model.model.layers.29.self_attn.k_proj.weight\", \"model.model.layers.29.self_attn.v_proj.weight\", \"model.model.layers.29.self_attn.o_proj.weight\", \"model.model.layers.29.mlp.gate_proj.weight\", \"model.model.layers.29.mlp.up_proj.weight\", \"model.model.layers.29.mlp.down_proj.weight\", \"model.model.layers.29.input_layernorm.weight\", \"model.model.layers.29.post_attention_layernorm.weight\", \"model.model.layers.30.self_attn.q_proj.weight\", \"model.model.layers.30.self_attn.k_proj.weight\", \"model.model.layers.30.self_attn.v_proj.weight\", \"model.model.layers.30.self_attn.o_proj.weight\", \"model.model.layers.30.mlp.gate_proj.weight\", \"model.model.layers.30.mlp.up_proj.weight\", \"model.model.layers.30.mlp.down_proj.weight\", \"model.model.layers.30.input_layernorm.weight\", \"model.model.layers.30.post_attention_layernorm.weight\", \"model.model.layers.31.self_attn.q_proj.weight\", \"model.model.layers.31.self_attn.k_proj.weight\", \"model.model.layers.31.self_attn.v_proj.weight\", \"model.model.layers.31.self_attn.o_proj.weight\", \"model.model.layers.31.mlp.gate_proj.weight\", \"model.model.layers.31.mlp.up_proj.weight\", \"model.model.layers.31.mlp.down_proj.weight\", \"model.model.layers.31.input_layernorm.weight\", \"model.model.layers.31.post_attention_layernorm.weight\", \"model.model.norm.weight\", \"model.lm_head.weight\". "
     ]
    }
   ],
   "source": [
    "# path\n",
    "path = '../checkpoints/test_run/epoch_5_best.pth'\n",
    "\n",
    "# load model\n",
    "trained_graph_llm = _reload_best_model(base_graph_llm, path)"
   ]
  }
 ],
 "metadata": {
  "kernelspec": {
   "display_name": "rag",
   "language": "python",
   "name": "python3"
  },
  "language_info": {
   "codemirror_mode": {
    "name": "ipython",
    "version": 3
   },
   "file_extension": ".py",
   "mimetype": "text/x-python",
   "name": "python",
   "nbconvert_exporter": "python",
   "pygments_lexer": "ipython3",
   "version": "3.12.7"
  }
 },
 "nbformat": 4,
 "nbformat_minor": 2
}
